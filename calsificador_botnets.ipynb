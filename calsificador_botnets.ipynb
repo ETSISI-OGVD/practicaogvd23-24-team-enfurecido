{
  "cells": [
    {
      "cell_type": "markdown",
      "source": [
        "# 1. Definimos el path del CSV"
      ],
      "metadata": {
        "nteract": {
          "transient": {
            "deleting": false
          }
        }
      }
    },
    {
      "cell_type": "code",
      "source": [
        "path = \"botnet_reduced_l.csv\""
      ],
      "outputs": [],
      "execution_count": 1,
      "metadata": {
        "gather": {
          "logged": 1710752005776
        }
      }
    },
    {
      "cell_type": "markdown",
      "source": [
        "Definimos las funciones centralizadas"
      ],
      "metadata": {
        "nteract": {
          "transient": {
            "deleting": false
          }
        }
      }
    },
    {
      "cell_type": "code",
      "source": [
        "import numpy as np\n",
        "\n",
        "def readFile(filename):\n",
        "    data = np.loadtxt(filename, delimiter=',')\n",
        "    X = data[:, :-1]  # Todas las filas, todas las columnas excepto la última\n",
        "    y = data[:, -1].astype(int)  # Última columna, convertida a int\n",
        "    return X, y\n",
        "\n",
        "def normalize(X):\n",
        "    means = X.mean(axis=0)\n",
        "    stdevs = X.std(axis=0)\n",
        "    normalized_X = (X - means) / stdevs\n",
        "    return normalized_X\n",
        "\n",
        "\n",
        "def train(X, y, iterations, learning_rate, lambda_reg):\n",
        "    m, n = X.shape\n",
        "    w = np.zeros(n)\n",
        "    b = 0\n",
        "\n",
        "    for _ in range(iterations):\n",
        "        linear_model = np.dot(X, w) + b\n",
        "        pred = 1 / (1 + np.exp(-linear_model))\n",
        "        error = pred - y\n",
        "\n",
        "        gradient_w = np.dot(X.T, error) / m + lambda_reg * w\n",
        "        gradient_b = np.sum(error) / m\n",
        "\n",
        "        w -= learning_rate * gradient_w\n",
        "        b -= learning_rate * gradient_b\n",
        "\n",
        "    return w, b\n",
        "\n",
        "\n",
        "def accuracy(w, b, X, y):\n",
        "    linear_model = np.dot(X, w) + b\n",
        "    pred = 1 / (1 + np.exp(-linear_model))\n",
        "    predictions = pred >= 0.5\n",
        "    correct = (predictions == y).sum()\n",
        "    total = y.size\n",
        "    return correct / total\n"
      ],
      "outputs": [],
      "execution_count": 2,
      "metadata": {
        "jupyter": {
          "source_hidden": false,
          "outputs_hidden": false
        },
        "nteract": {
          "transient": {
            "deleting": false
          }
        },
        "gather": {
          "logged": 1710752005892
        }
      }
    },
    {
      "cell_type": "markdown",
      "source": [
        "Cargamos los datos"
      ],
      "metadata": {
        "nteract": {
          "transient": {
            "deleting": false
          }
        }
      }
    },
    {
      "cell_type": "code",
      "source": [
        "import numpy as np\n",
        "from sklearn.model_selection import train_test_split  # Para dividir los datos\n",
        "\n",
        "# Usar tus funciones definidas previamente aquí\n",
        "\n",
        "# Paso 1: Leer los datos\n",
        "X, y = readFile(\"botnet_reduced_l.csv\")\n",
        "\n",
        "# Paso 2: Normalizar los datos\n",
        "X_norm = normalize(X)\n",
        "\n",
        "# Paso 3: Dividir los datos en conjuntos de entrenamiento y prueba\n",
        "X_train, X_test, y_train, y_test = train_test_split(X_norm, y, test_size=0.2, random_state=42)\n"
      ],
      "outputs": [],
      "execution_count": 3,
      "metadata": {
        "jupyter": {
          "source_hidden": false,
          "outputs_hidden": false
        },
        "nteract": {
          "transient": {
            "deleting": false
          }
        },
        "gather": {
          "logged": 1710752008990
        }
      }
    },
    {
      "cell_type": "markdown",
      "source": [
        "Entrenamos el modelo"
      ],
      "metadata": {
        "nteract": {
          "transient": {
            "deleting": false
          }
        }
      }
    },
    {
      "cell_type": "code",
      "source": [
        "iterations = 1000  # Por ejemplo, 1000 iteraciones\n",
        "learning_rate = 0.01  # Un valor común para empezar\n",
        "lambda_reg = 0.1  # Regularización para evitar el sobreajuste\n",
        "w, b = train(X_train, y_train, iterations, learning_rate, lambda_reg)\n",
        "\n",
        "# Paso 5: Evaluar el modelo\n",
        "train_accuracy = accuracy(w, b, X_train, y_train)\n",
        "test_accuracy = accuracy(w, b, X_test, y_test)\n",
        "\n",
        "print(f\"Accuracy on training set: {train_accuracy * 100:.2f}%\")\n",
        "print(f\"Accuracy on test set: {test_accuracy * 100:.2f}%\")"
      ],
      "outputs": [
        {
          "output_type": "stream",
          "name": "stdout",
          "text": "Accuracy on training set: 92.23%\nAccuracy on test set: 92.24%\n"
        }
      ],
      "execution_count": 4,
      "metadata": {
        "jupyter": {
          "source_hidden": false,
          "outputs_hidden": false
        },
        "nteract": {
          "transient": {
            "deleting": false
          }
        },
        "gather": {
          "logged": 1710752012921
        }
      }
    }
  ],
  "metadata": {
    "kernelspec": {
      "name": "python310-sdkv2",
      "language": "python",
      "display_name": "Python 3.10 - SDK v2"
    },
    "language_info": {
      "name": "python",
      "version": "3.10.11",
      "mimetype": "text/x-python",
      "codemirror_mode": {
        "name": "ipython",
        "version": 3
      },
      "pygments_lexer": "ipython3",
      "nbconvert_exporter": "python",
      "file_extension": ".py"
    },
    "microsoft": {
      "ms_spell_check": {
        "ms_spell_check_language": "es"
      },
      "host": {
        "AzureML": {
          "notebookHasBeenCompleted": true
        }
      }
    },
    "nteract": {
      "version": "nteract-front-end@1.0.0"
    },
    "kernel_info": {
      "name": "python310-sdkv2"
    }
  },
  "nbformat": 4,
  "nbformat_minor": 2
}